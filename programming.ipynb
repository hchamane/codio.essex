{
  "nbformat": 4,
  "nbformat_minor": 0,
  "metadata": {
    "colab": {
      "provenance": [],
      "authorship_tag": "ABX9TyPPHBXjmKGY0KnBfW/S6qCh",
      "include_colab_link": true
    },
    "kernelspec": {
      "name": "python3",
      "display_name": "Python 3"
    },
    "language_info": {
      "name": "python"
    }
  },
  "cells": [
    {
      "cell_type": "markdown",
      "metadata": {
        "id": "view-in-github",
        "colab_type": "text"
      },
      "source": [
        "<a href=\"https://colab.research.google.com/github/hchamane/codio.essex/blob/master/programming.ipynb\" target=\"_parent\"><img src=\"https://colab.research.google.com/assets/colab-badge.svg\" alt=\"Open In Colab\"/></a>"
      ]
    },
    {
      "cell_type": "markdown",
      "source": [
        "Stretch Challenge: This is optional but, see if you can work out how to create a static print_class() method that will output the class attributes, rather than the print_self() instance method that outputs values for each member attribute."
      ],
      "metadata": {
        "id": "BesaGX_MABj_"
      }
    },
    {
      "cell_type": "code",
      "execution_count": 1,
      "metadata": {
        "colab": {
          "base_uri": "https://localhost:8080/"
        },
        "id": "SMQQyeES_9oU",
        "outputId": "ec1875ae-5bdd-43ec-d5ed-e15dce674b41"
      },
      "outputs": [
        {
          "output_type": "stream",
          "name": "stdout",
          "text": [
            "x: 5, y: 10\n"
          ]
        }
      ],
      "source": [
        "class MyClass:\n",
        "    x = 5\n",
        "    y = 10\n",
        "\n",
        "    @staticmethod\n",
        "    def print_class():\n",
        "        print(f\"x: {MyClass.x}, y: {MyClass.y}\")\n",
        "\n",
        "MyClass.print_class()"
      ]
    }
  ]
}