{
  "nbformat": 4,
  "nbformat_minor": 0,
  "metadata": {
    "colab": {
      "provenance": [],
      "include_colab_link": true
    },
    "kernelspec": {
      "name": "python3",
      "display_name": "Python 3"
    },
    "language_info": {
      "name": "python"
    }
  },
  "cells": [
    {
      "cell_type": "markdown",
      "metadata": {
        "id": "view-in-github",
        "colab_type": "text"
      },
      "source": [
        "<a href=\"https://colab.research.google.com/github/hchamane/codio.essex/blob/master/LCS.ipynb\" target=\"_parent\"><img src=\"https://colab.research.google.com/assets/colab-badge.svg\" alt=\"Open In Colab\"/></a>"
      ]
    },
    {
      "cell_type": "code",
      "execution_count": null,
      "metadata": {
        "id": "IRdp3ktOsQxt"
      },
      "outputs": [],
      "source": [
        "alist  = [10,20,30,40,50] # This is a list of integers\n",
        "xlist = [1.24,3.22,4.55,9.03] # This is a list of floats\n",
        "\n",
        "names = [\"Stelios\",\"Fergus\",\"Joe Li\"]"
      ]
    },
    {
      "cell_type": "markdown",
      "source": [
        "Add elements to a list using the append."
      ],
      "metadata": {
        "id": "tOSzh_EZupM-"
      }
    },
    {
      "cell_type": "code",
      "source": [
        "alist = []\n",
        "alist.append(10)\n",
        "alist.append(20)\n",
        "alist.append(30)"
      ],
      "metadata": {
        "id": "UzjVb3TmuhP1"
      },
      "execution_count": null,
      "outputs": []
    },
    {
      "cell_type": "code",
      "source": [
        "print(alist)"
      ],
      "metadata": {
        "colab": {
          "base_uri": "https://localhost:8080/"
        },
        "id": "WjY6q-VGuddg",
        "outputId": "61945d58-0f35-47f0-8b94-492864324a8a"
      },
      "execution_count": null,
      "outputs": [
        {
          "output_type": "stream",
          "name": "stdout",
          "text": [
            "[10, 20, 30]\n"
          ]
        }
      ]
    },
    {
      "cell_type": "markdown",
      "source": [
        "          0. 1. 2. 3.\n",
        "alist = [10,20,30,40]"
      ],
      "metadata": {
        "id": "BTS8vkCTu-Tm"
      }
    },
    {
      "cell_type": "markdown",
      "source": [
        "Delete an element"
      ],
      "metadata": {
        "id": "qCzM6J0nuwD6"
      }
    },
    {
      "cell_type": "code",
      "source": [
        "alist.pop(1) # you use the index value"
      ],
      "metadata": {
        "colab": {
          "base_uri": "https://localhost:8080/"
        },
        "id": "A35nMvVbuxuv",
        "outputId": "f2689a23-9c1c-48cd-db49-f775e668bb8e"
      },
      "execution_count": null,
      "outputs": [
        {
          "output_type": "execute_result",
          "data": {
            "text/plain": [
              "20"
            ]
          },
          "metadata": {},
          "execution_count": 8
        }
      ]
    },
    {
      "cell_type": "code",
      "source": [
        "print(alist)"
      ],
      "metadata": {
        "colab": {
          "base_uri": "https://localhost:8080/"
        },
        "id": "Av9D6IiAu41j",
        "outputId": "e69d18ae-8560-409d-9298-1c10964da7ff"
      },
      "execution_count": null,
      "outputs": [
        {
          "output_type": "stream",
          "name": "stdout",
          "text": [
            "[10, 30]\n"
          ]
        }
      ]
    },
    {
      "cell_type": "markdown",
      "source": [
        "Update an element, for example update element with index 0 (that is number 10) to 20."
      ],
      "metadata": {
        "id": "Gbsbpa6JvJPz"
      }
    },
    {
      "cell_type": "code",
      "source": [
        "alist[0] = 20"
      ],
      "metadata": {
        "id": "NcZnDBl0vKnS"
      },
      "execution_count": null,
      "outputs": []
    },
    {
      "cell_type": "code",
      "source": [
        "alist"
      ],
      "metadata": {
        "colab": {
          "base_uri": "https://localhost:8080/"
        },
        "id": "HxpF9wlSvO5W",
        "outputId": "7a9550b3-6c55-48c6-c8a2-57716cd7fd3f"
      },
      "execution_count": null,
      "outputs": [
        {
          "output_type": "execute_result",
          "data": {
            "text/plain": [
              "[20, 30]"
            ]
          },
          "metadata": {},
          "execution_count": 11
        }
      ]
    },
    {
      "cell_type": "markdown",
      "source": [
        "## Searching\n",
        "\n",
        "Searching for an element (key) in a list of data."
      ],
      "metadata": {
        "id": "qS-hDLG-vtOM"
      }
    },
    {
      "cell_type": "code",
      "source": [
        "alist = [10,20,30,40,50,60]\n",
        "key = 50\n",
        "\n",
        "found = False\n",
        "for element in alist:\n",
        "  if element == key:\n",
        "    found = True\n",
        "\n",
        "print(found)"
      ],
      "metadata": {
        "colab": {
          "base_uri": "https://localhost:8080/"
        },
        "id": "IukCkhoovvNw",
        "outputId": "553f9968-4870-4625-8e8f-d8470821cfe3"
      },
      "execution_count": null,
      "outputs": [
        {
          "output_type": "stream",
          "name": "stdout",
          "text": [
            "True\n"
          ]
        }
      ]
    },
    {
      "cell_type": "code",
      "source": [
        "alist = [10,2,4,1,5,9,8]\n",
        "\n",
        "alist.sort()\n",
        "\n",
        "print(alist)"
      ],
      "metadata": {
        "colab": {
          "base_uri": "https://localhost:8080/"
        },
        "id": "MzdtG2ZCwp1u",
        "outputId": "43f65106-b815-4308-a97f-ba218cd82550"
      },
      "execution_count": null,
      "outputs": [
        {
          "output_type": "stream",
          "name": "stdout",
          "text": [
            "[1, 2, 4, 5, 8, 9, 10]\n"
          ]
        }
      ]
    },
    {
      "cell_type": "markdown",
      "source": [
        "# Examples of datasets"
      ],
      "metadata": {
        "id": "fyriglAqxC36"
      }
    },
    {
      "cell_type": "code",
      "source": [
        "#.        0. 1. 2. 3.  \n",
        "alist = [10,20,30,40]\n",
        "#.       -4 -3 -2 -1\n",
        "alist[-1]"
      ],
      "metadata": {
        "colab": {
          "base_uri": "https://localhost:8080/"
        },
        "id": "mH8zpBE_xEQ_",
        "outputId": "505aff3e-e8b4-4e2b-849a-aae417f37ee9"
      },
      "execution_count": null,
      "outputs": [
        {
          "output_type": "execute_result",
          "data": {
            "text/plain": [
              "40"
            ]
          },
          "metadata": {},
          "execution_count": 23
        }
      ]
    },
    {
      "cell_type": "code",
      "source": [
        "#.         name.     city.  age ?\n",
        "alist = [\"Stelios\",\"London\",40]"
      ],
      "metadata": {
        "id": "jDONxOTtxjf_"
      },
      "execution_count": null,
      "outputs": []
    },
    {
      "cell_type": "markdown",
      "source": [
        "### A dictionary is a key:value datastructure"
      ],
      "metadata": {
        "id": "4O3cfMo0x6x8"
      }
    },
    {
      "cell_type": "code",
      "source": [
        "adict = {\"name\":\"Stelios\", \"city\":\"London\", \"age\":40}"
      ],
      "metadata": {
        "id": "RXuTBMv2xyHL"
      },
      "execution_count": null,
      "outputs": []
    },
    {
      "cell_type": "code",
      "source": [
        "adict[\"name\"]"
      ],
      "metadata": {
        "colab": {
          "base_uri": "https://localhost:8080/",
          "height": 58
        },
        "id": "jeHDBmZfx-ir",
        "outputId": "a4e14e63-9ede-448f-897c-74892d4c2337"
      },
      "execution_count": null,
      "outputs": [
        {
          "output_type": "execute_result",
          "data": {
            "text/plain": [
              "'Stelios'"
            ],
            "application/vnd.google.colaboratory.intrinsic+json": {
              "type": "string"
            }
          },
          "metadata": {},
          "execution_count": 32
        }
      ]
    },
    {
      "cell_type": "code",
      "source": [
        "contact_book = {\n",
        "    \"names\":[\"Stelios\",\"Fergus\",\"Hainadine\",\"Joe Li\"], \n",
        "    \"city\": [\"London\",\"London\",\"Manchester\",\"Paris\"],\n",
        "    \"mobile_num\":[12341234, 34656453, 34533434, 43435444]\n",
        "  }"
      ],
      "metadata": {
        "id": "u06dQNtMySkO"
      },
      "execution_count": null,
      "outputs": []
    },
    {
      "cell_type": "markdown",
      "source": [
        "### Example of adding data to the dictionary"
      ],
      "metadata": {
        "id": "nVBDJ9XC0tdT"
      }
    },
    {
      "cell_type": "code",
      "source": [
        "contact_book[\"names\"].append(\"Tom\")\n",
        "contact_book[\"city\"].append(\"Athens\")\n",
        "contact_book[\"mobile_num\"].append(9999999)"
      ],
      "metadata": {
        "id": "h35YUuRA0aEC"
      },
      "execution_count": null,
      "outputs": []
    },
    {
      "cell_type": "markdown",
      "source": [
        "### Remove data"
      ],
      "metadata": {
        "id": "upIjMC750wYP"
      }
    },
    {
      "cell_type": "code",
      "source": [
        "contact_book[\"names\"].pop(0)\n",
        "contact_book[\"city\"].pop(0)\n",
        "contact_book[\"mobile_num\"].pop(0)"
      ],
      "metadata": {
        "colab": {
          "base_uri": "https://localhost:8080/"
        },
        "id": "VTCa4DDU0yvX",
        "outputId": "f6c9d17a-291e-4b4d-b736-2ce420148bf7"
      },
      "execution_count": null,
      "outputs": [
        {
          "output_type": "execute_result",
          "data": {
            "text/plain": [
              "12341234"
            ]
          },
          "metadata": {},
          "execution_count": 57
        }
      ]
    },
    {
      "cell_type": "code",
      "source": [
        "print(contact_book)"
      ],
      "metadata": {
        "colab": {
          "base_uri": "https://localhost:8080/"
        },
        "id": "QGvP40H-08Y9",
        "outputId": "9e8a2f2c-37c1-47cc-97ad-01dad6d679fd"
      },
      "execution_count": null,
      "outputs": [
        {
          "output_type": "stream",
          "name": "stdout",
          "text": [
            "{'names': ['Fergus', 'Hainadine', 'Joe Li', 'Tom'], 'city': ['London', 'Manchester', 'Paris', 'Athens'], 'mobile_num': [34656453, 34533434, 43435444, 9999999]}\n"
          ]
        }
      ]
    },
    {
      "cell_type": "code",
      "source": [
        "contact_book[\"city\"][0] = \"AAAAAA\""
      ],
      "metadata": {
        "id": "dXAM48Z91RNm"
      },
      "execution_count": null,
      "outputs": []
    },
    {
      "cell_type": "code",
      "source": [
        "print(contact_book)"
      ],
      "metadata": {
        "colab": {
          "base_uri": "https://localhost:8080/"
        },
        "id": "QQV7RFid1Xe6",
        "outputId": "f58ad824-5135-4f99-fd1e-cf50668bfed5"
      },
      "execution_count": null,
      "outputs": [
        {
          "output_type": "stream",
          "name": "stdout",
          "text": [
            "{'names': ['Fergus', 'Hainadine', 'Joe Li', 'Tom'], 'city': ['AAAAAA', 'Manchester', 'Paris', 'Athens'], 'mobile_num': [34656453, 34533434, 43435444, 9999999]}\n"
          ]
        }
      ]
    },
    {
      "cell_type": "code",
      "source": [
        "print(contact_book)"
      ],
      "metadata": {
        "colab": {
          "base_uri": "https://localhost:8080/"
        },
        "id": "EVN3N1PI0jMz",
        "outputId": "9fe7bca5-fe25-4ec0-e7e4-8518a8bd31a9"
      },
      "execution_count": null,
      "outputs": [
        {
          "output_type": "stream",
          "name": "stdout",
          "text": [
            "{'names': ['Stelios', 'Fergus', 'Hainadine', 'Joe Li', 'Tom'], 'city': ['London', 'London', 'Manchester', 'Paris', 'Athens'], 'mobile_num': [12341234, 34656453, 34533434, 43435444, 9999999]}\n"
          ]
        }
      ]
    },
    {
      "cell_type": "code",
      "source": [
        "print(contact_book[\"names\"])\n",
        "print(contact_book[\"city\"])"
      ],
      "metadata": {
        "colab": {
          "base_uri": "https://localhost:8080/"
        },
        "id": "XCtnNS7cy3xA",
        "outputId": "00f79402-73b9-4b55-f07e-aa84706219ea"
      },
      "execution_count": null,
      "outputs": [
        {
          "output_type": "stream",
          "name": "stdout",
          "text": [
            "['Stelios', 'Fergus', 'Hainadine', 'Joe Li']\n",
            "['London', 'London', 'Manchester', 'Paris']\n"
          ]
        }
      ]
    },
    {
      "cell_type": "code",
      "source": [
        "# For loop for a list\n",
        "\n",
        "alist = [1,2,3,4,5]\n",
        "\n",
        "for number in alist:\n",
        "  print(number)"
      ],
      "metadata": {
        "colab": {
          "base_uri": "https://localhost:8080/"
        },
        "id": "g7aR1VOUzEM9",
        "outputId": "3f14ad02-ea45-46da-9502-a0323e5f2710"
      },
      "execution_count": null,
      "outputs": [
        {
          "output_type": "stream",
          "name": "stdout",
          "text": [
            "1\n",
            "2\n",
            "3\n",
            "4\n",
            "5\n"
          ]
        }
      ]
    },
    {
      "cell_type": "code",
      "source": [
        "# For loop for a dictionary\n",
        "\n",
        "for key,value in contact_book.items():\n",
        "  print(key,value[1])"
      ],
      "metadata": {
        "colab": {
          "base_uri": "https://localhost:8080/"
        },
        "id": "I2n32e6TzOZu",
        "outputId": "e5217b67-a3bc-4216-f095-f1e0ce2f95de"
      },
      "execution_count": null,
      "outputs": [
        {
          "output_type": "stream",
          "name": "stdout",
          "text": [
            "names Fergus\n",
            "city London\n",
            "mobile_num 34656453\n"
          ]
        }
      ]
    },
    {
      "cell_type": "markdown",
      "source": [
        "How to search for data"
      ],
      "metadata": {
        "id": "laJWEgNv1FBw"
      }
    },
    {
      "cell_type": "code",
      "source": [
        "for key,value in contact_book.items():\n",
        "  for name in value:\n",
        "    if name == \"Fergus\":\n",
        "      print(name)"
      ],
      "metadata": {
        "colab": {
          "base_uri": "https://localhost:8080/"
        },
        "id": "BCkZaQ6Wz35k",
        "outputId": "3b5bdb28-a0ca-4a7b-a7a0-608b6d24d651"
      },
      "execution_count": null,
      "outputs": [
        {
          "output_type": "stream",
          "name": "stdout",
          "text": [
            "Fergus\n"
          ]
        }
      ]
    }
  ]
}