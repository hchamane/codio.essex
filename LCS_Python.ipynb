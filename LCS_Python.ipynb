{
  "nbformat": 4,
  "nbformat_minor": 0,
  "metadata": {
    "colab": {
      "provenance": [],
      "authorship_tag": "ABX9TyP5iPaBFWmk5hl6cX0ZmAyI",
      "include_colab_link": true
    },
    "kernelspec": {
      "name": "python3",
      "display_name": "Python 3"
    },
    "language_info": {
      "name": "python"
    }
  },
  "cells": [
    {
      "cell_type": "markdown",
      "metadata": {
        "id": "view-in-github",
        "colab_type": "text"
      },
      "source": [
        "<a href=\"https://colab.research.google.com/github/hchamane/codio.essex/blob/master/LCS_Python.ipynb\" target=\"_parent\"><img src=\"https://colab.research.google.com/assets/colab-badge.svg\" alt=\"Open In Colab\"/></a>"
      ]
    },
    {
      "cell_type": "code",
      "execution_count": 1,
      "metadata": {
        "colab": {
          "base_uri": "https://localhost:8080/"
        },
        "id": "FuCeJ6n_9yME",
        "outputId": "f787ac1d-0886-49fb-cec1-3428fa4a08cc"
      },
      "outputs": [
        {
          "output_type": "stream",
          "name": "stdout",
          "text": [
            "10\n",
            "01\n",
            "20\n",
            "02\n"
          ]
        }
      ],
      "source": [
        "# txt = input()\n",
        "# output_string = \"\"\n",
        "\n",
        "# for i in range(0, len(tex), 2):\n",
        "#     output_string += txt[i+1] + txt[i]\n",
        "\n",
        "# print(output_string)\n",
        "\n",
        "txt = input()\n",
        "length = len(txt)\n",
        "swapped_string = \"\"\n",
        "\n",
        "for i in range(0, length - 1, 2):\n",
        "  swapped_string += txt[i + 1]\n",
        "  swapped_string += txt[i]\n",
        "\n",
        "print(swapped_string)\n",
        "\n",
        "txt = input()\n",
        "length = len(txt)\n",
        "swapped_string = \"\"\n",
        "\n",
        "for i in range(0, length - 1, 2):\n",
        "    swapped_string += txt[i + 1]\n",
        "    swapped_string += txt[i]\n",
        "\n",
        "print(swapped_string)"
      ]
    }
  ]
}